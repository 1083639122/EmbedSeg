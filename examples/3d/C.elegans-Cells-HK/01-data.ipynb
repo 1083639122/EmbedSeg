{
 "cells": [
  {
   "cell_type": "code",
   "execution_count": 1,
   "metadata": {},
   "outputs": [],
   "source": [
    "from tqdm import tqdm\n",
    "from glob import glob\n",
    "import tifffile\n",
    "import numpy as np\n",
    "import os\n",
    "from EmbedSeg.utils.preprocess_data import extract_data, split_train_val, split_train_crops, get_data_properties\n",
    "from EmbedSeg.utils.generate_crops import *\n",
    "from EmbedSeg.utils.visualize import visualize_crop_3d\n",
    "import json\n",
    "from matplotlib.colors import ListedColormap"
   ]
  },
  {
   "cell_type": "markdown",
   "metadata": {},
   "source": [
    "### Download Data"
   ]
  },
  {
   "cell_type": "code",
   "execution_count": 2,
   "metadata": {},
   "outputs": [],
   "source": [
    "data_dir = '../../../data'\n",
    "project_name = 'C.elegans-Cells-HK'"
   ]
  },
  {
   "cell_type": "markdown",
   "metadata": {},
   "source": [
    "Ideally, <b>*.tif</b>-type images and the corresponding masks should be respectively present under <b>images</b> and <b>masks</b>, under directories <b>train</b>, <b>val</b> and <b>test</b>, which can be present at any location on your workstation, pointed to by the variable <i>data_dir</i>. (In order to prepare such instance masks, one could use the Fiji plugin <b>Labkit</b> as detailed <b>[here](https://github.com/juglab/EmbedSeg/wiki/Use-Labkit-to-prepare-instance-masks)</b>). The following would be the desired structure as to how data should be present. \n",
    "\n",
    "<img src=\"https://raw.githubusercontent.com/juglab/EmbedSeg/v0.2.4/directory_pngs/png/01_dir_structure.png\" width=\"100\"/>\n",
    "\n",
    "If you already have your data available in the above style, please skip to the <b><a href=\"#center\">third</a></b> section of this notebook, where you specify the kind of center to which constitutive pixels of an object should embed. \n",
    "Since for the <b> C.elegans-Cells-HK</b> dataset, we do not have the data in this format yet, we firstly download the data from an external url in the following cells, next we split this data to create our `train`, `val` and `test` directories. "
   ]
  },
  {
   "cell_type": "markdown",
   "metadata": {},
   "source": [
    "The images and corresponding masks are downloaded from an external url, specified by `zip_url` to the path specified by the variables `data_dir` and `project_name`. The following structure is generated after executing the `extract_data` and `split_train_val` methods below:"
   ]
  },
  {
   "cell_type": "code",
   "execution_count": 4,
   "metadata": {},
   "outputs": [
    {
     "name": "stdout",
     "output_type": "stream",
     "text": [
      "Downloaded data as ../../../data/C.elegans-Cells-HK.zip\n",
      "Unzipped data to ../../../data/C.elegans-Cells-HK/download/\n"
     ]
    }
   ],
   "source": [
    "extract_data(\n",
    "    zip_url = 'https://github.com/juglab/EmbedSeg/releases/download/v0.1.0/C.elegans-Cells-HK.zip',\n",
    "    data_dir = data_dir,\n",
    "    project_name = project_name,\n",
    ")"
   ]
  },
  {
   "cell_type": "code",
   "execution_count": 5,
   "metadata": {},
   "outputs": [
    {
     "name": "stdout",
     "output_type": "stream",
     "text": [
      "Created new directory : ../../../data/C.elegans-Cells-HK/train/images/\n",
      "Created new directory : ../../../data/C.elegans-Cells-HK/train/masks/\n",
      "Created new directory : ../../../data/C.elegans-Cells-HK/val/images/\n",
      "Created new directory : ../../../data/C.elegans-Cells-HK/val/masks/\n",
      "Created new directory : ../../../data/C.elegans-Cells-HK/test/images/\n",
      "Created new directory : ../../../data/C.elegans-Cells-HK/test/masks/\n",
      "Train-Val-Test Images/Masks copied to ../../../data/C.elegans-Cells-HK\n"
     ]
    }
   ],
   "source": [
    "split_train_val(\n",
    "    data_dir = data_dir,\n",
    "    project_name = project_name, \n",
    "    train_val_name = 'train',\n",
    "    subset = 0.15)"
   ]
  },
  {
   "cell_type": "markdown",
   "metadata": {},
   "source": [
    "### Calculate some dataset specific properties "
   ]
  },
  {
   "cell_type": "markdown",
   "metadata": {},
   "source": [
    "In the next cell, we will calculate properties of the data such as `min_object_size`, `foreground_weight` etc. <br>\n",
    "We will also specify some properties, for example,  \n",
    "* set `data_properties_dir['one_hot'] = True` in case the instances are encoded in a one-hot style. \n",
    "* set `data_properties_dir['data_type']='16-bit'` if the images are of datatype `unsigned 16 bit` and \n",
    "    `data_properties_dir['data_type']='8-bit'` if the images are of datatype `unsigned 8 bit`.\n",
    "\n",
    "Lastly, we will save the dictionary `data_properties_dir` in a json file, which we will access in the `02-train` and `03-predict` notebooks."
   ]
  },
  {
   "cell_type": "code",
   "execution_count": 3,
   "metadata": {},
   "outputs": [
    {
     "name": "stderr",
     "output_type": "stream",
     "text": [
      "100%|███████████████████████████████████████████| 54/54 [00:13<00:00,  4.07it/s]\n",
      "  0%|                                                    | 0/54 [00:00<?, ?it/s]"
     ]
    },
    {
     "name": "stdout",
     "output_type": "stream",
     "text": [
      "Foreground weight of the `C.elegans-Cells-HK` dataset set equal to 3.717\n"
     ]
    },
    {
     "name": "stderr",
     "output_type": "stream",
     "text": [
      "100%|███████████████████████████████████████████| 12/12 [00:00<00:00, 42.13it/s]\n",
      "100%|███████████████████████████████████████████| 13/13 [00:00<00:00, 42.29it/s]\n",
      "100%|███████████████████████████████████████████| 14/14 [00:00<00:00, 42.71it/s]\n",
      "100%|███████████████████████████████████████████| 14/14 [00:00<00:00, 42.91it/s]\n",
      "100%|███████████████████████████████████████████| 15/15 [00:00<00:00, 43.05it/s]\n",
      "100%|███████████████████████████████████████████| 15/15 [00:00<00:00, 41.19it/s]\n",
      "100%|███████████████████████████████████████████| 28/28 [00:00<00:00, 42.73it/s]\n",
      "100%|███████████████████████████████████████████| 28/28 [00:00<00:00, 44.08it/s]\n",
      "100%|███████████████████████████████████████████| 28/28 [00:00<00:00, 44.11it/s]\n",
      "100%|███████████████████████████████████████████| 42/42 [00:00<00:00, 43.77it/s]\n",
      "100%|███████████████████████████████████████████| 43/43 [00:01<00:00, 40.90it/s]\n",
      "100%|███████████████████████████████████████████| 49/49 [00:01<00:00, 43.86it/s]\n",
      "100%|███████████████████████████████████████████| 51/51 [00:01<00:00, 44.21it/s]\n",
      "100%|███████████████████████████████████████████| 51/51 [00:01<00:00, 44.13it/s]\n",
      "100%|███████████████████████████████████████████| 53/53 [00:01<00:00, 34.74it/s]\n",
      "100%|███████████████████████████████████████████| 85/85 [00:01<00:00, 44.72it/s]\n",
      "100%|███████████████████████████████████████████| 86/86 [00:02<00:00, 38.40it/s]\n",
      "100%|███████████████████████████████████████████| 87/87 [00:01<00:00, 44.49it/s]\n",
      "100%|███████████████████████████████████████████| 92/92 [00:02<00:00, 44.72it/s]\n",
      "100%|███████████████████████████████████████████| 94/94 [00:02<00:00, 36.32it/s]\n",
      "100%|███████████████████████████████████████████| 97/97 [00:02<00:00, 35.40it/s]\n",
      "100%|█████████████████████████████████████████████| 3/3 [00:00<00:00, 30.00it/s]\n",
      "100%|█████████████████████████████████████████████| 4/4 [00:00<00:00, 32.13it/s]\n",
      "100%|█████████████████████████████████████████████| 6/6 [00:00<00:00, 25.76it/s]\n",
      "100%|█████████████████████████████████████████████| 7/7 [00:00<00:00, 27.98it/s]\n",
      "100%|█████████████████████████████████████████████| 8/8 [00:00<00:00, 36.62it/s]\n",
      "100%|███████████████████████████████████████████| 12/12 [00:00<00:00, 37.29it/s]\n",
      "100%|███████████████████████████████████████████| 15/15 [00:00<00:00, 28.80it/s]\n",
      "100%|███████████████████████████████████████████| 24/24 [00:00<00:00, 43.06it/s]\n",
      "100%|███████████████████████████████████████████| 25/25 [00:00<00:00, 42.96it/s]\n",
      "100%|███████████████████████████████████████████| 26/26 [00:00<00:00, 42.36it/s]\n",
      "100%|███████████████████████████████████████████| 28/28 [00:00<00:00, 43.08it/s]\n",
      "100%|███████████████████████████████████████████| 44/44 [00:01<00:00, 43.23it/s]\n",
      "100%|███████████████████████████████████████████| 47/47 [00:01<00:00, 43.28it/s]\n",
      "100%|███████████████████████████████████████████| 51/51 [00:01<00:00, 33.91it/s]\n",
      "100%|███████████████████████████████████████████| 51/51 [00:01<00:00, 31.79it/s]\n",
      "100%|███████████████████████████████████████████| 89/89 [00:02<00:00, 37.86it/s]\n",
      "100%|███████████████████████████████████████████| 97/97 [00:02<00:00, 35.19it/s]\n",
      "100%|█████████████████████████████████████████| 102/102 [00:02<00:00, 38.45it/s]\n",
      "100%|█████████████████████████████████████████| 150/150 [00:04<00:00, 37.01it/s]\n",
      "100%|█████████████████████████████████████████| 173/173 [00:04<00:00, 37.84it/s]\n",
      "100%|█████████████████████████████████████████| 182/182 [00:04<00:00, 40.45it/s]\n",
      "100%|█████████████████████████████████████████| 187/187 [00:04<00:00, 37.72it/s]\n",
      "100%|█████████████████████████████████████████| 194/194 [00:04<00:00, 41.02it/s]\n",
      "100%|█████████████████████████████████████████| 309/309 [00:07<00:00, 44.13it/s]\n",
      "100%|█████████████████████████████████████████| 335/335 [00:08<00:00, 37.93it/s]\n",
      "100%|███████████████████████████████████████████| 14/14 [00:00<00:00, 30.80it/s]\n",
      "100%|███████████████████████████████████████████| 15/15 [00:00<00:00, 33.46it/s]\n",
      "100%|███████████████████████████████████████████| 26/26 [00:00<00:00, 42.11it/s]\n",
      "100%|███████████████████████████████████████████| 26/26 [00:00<00:00, 31.01it/s]\n",
      "100%|███████████████████████████████████████████| 44/44 [00:01<00:00, 38.02it/s]\n",
      "100%|███████████████████████████████████████████| 97/97 [00:02<00:00, 36.98it/s]\n",
      "100%|███████████████████████████████████████████| 14/14 [00:00<00:00, 39.76it/s]\n",
      "100%|███████████████████████████████████████████| 86/86 [00:02<00:00, 34.84it/s]\n",
      "100%|███████████████████████████████████████████| 54/54 [01:41<00:00,  1.88s/it]\n",
      "  5%|██                                          | 1/21 [00:00<00:02,  8.71it/s]"
     ]
    },
    {
     "name": "stdout",
     "output_type": "stream",
     "text": [
      "Minimum object size of the `C.elegans-Cells-HK` dataset is equal to 1\n",
      "Mean object size of the `C.elegans-Cells-HK` dataset is equal to 25570.838016055044\n",
      "Maximum object size of the `C.elegans-Cells-HK` dataset is equal to 787298\n",
      "Average object size of the `C.elegans-Cells-HK` dataset along `x` is equal to 34.847\n",
      "Std. dev object size of the `C.elegans-Cells-HK` dataset along `x` is equal to 15.735\n",
      "Average object size of the `C.elegans-Cells-HK` dataset along `y` is equal to 34.002\n",
      "Std. dev object size of the `C.elegans-Cells-HK` dataset along `y` is equal to 16.229\n",
      "Average object size of the `C.elegans-Cells-HK` dataset along `z` is equal to 32.354\n",
      "Std. dev object size of the `C.elegans-Cells-HK` dataset along `z` is equal to 14.534\n"
     ]
    },
    {
     "name": "stderr",
     "output_type": "stream",
     "text": [
      "100%|███████████████████████████████████████████| 21/21 [00:02<00:00,  8.10it/s]\n",
      "  2%|▊                                           | 1/54 [00:00<00:08,  6.19it/s]"
     ]
    },
    {
     "name": "stdout",
     "output_type": "stream",
     "text": [
      "Tile size of the `C.elegans-Cells-HK` dataset set equal to  (n_z = 136, n_y = 288, n_x = 288)\n"
     ]
    },
    {
     "name": "stderr",
     "output_type": "stream",
     "text": [
      "100%|███████████████████████████████████████████| 54/54 [00:08<00:00,  6.60it/s]"
     ]
    },
    {
     "name": "stdout",
     "output_type": "stream",
     "text": [
      "Average background intensity of the `C.elegans-Cells-HK` dataset set equal to 6.454\n",
      "Dataset properies of the `C.elegans-Cells-HK` dataset is saved to `data_properties.json`\n"
     ]
    },
    {
     "name": "stderr",
     "output_type": "stream",
     "text": [
      "\n"
     ]
    }
   ],
   "source": [
    "data_properties_dir = get_data_properties(data_dir, project_name, train_val_name=['train', 'val'], \n",
    "                                          test_name=['test'], mode='3d')\n",
    "\n",
    "data_properties_dir['data_type']='8-bit'\n",
    "data_properties_dir['pixel_size_x_microns']=0.22 # set equal to voxel size (microns) in x dimension\n",
    "data_properties_dir['pixel_size_y_microns']=0.22 # set equal to voxel size (microns) in y dimension\n",
    "data_properties_dir['pixel_size_z_microns']=0.22 # set equal to voxel size (microns) in z dimension\n",
    "\n",
    "with open('data_properties.json', 'w') as outfile:\n",
    "    json.dump(data_properties_dir, outfile)\n",
    "    print(\"Dataset properies of the `{}` dataset is saved to `data_properties.json`\".format(project_name))"
   ]
  },
  {
   "cell_type": "markdown",
   "metadata": {},
   "source": [
    "### Specify desired centre location for spatial embedding of pixels"
   ]
  },
  {
   "cell_type": "markdown",
   "metadata": {},
   "source": [
    "Interior pixels of an object instance can either be embedded at the `centroid` (evaluated in $\\mathcal{O(n)}$ operations, where $\\mathcal{n}$ is the number of pixels in an object instance), or the `medoid` (evaluated in $\\mathcal{O(n^{2})}$ operations). Please note that evaluating `medoid` of the instances could be slow especially if you choose a large `crop_size` later: in such a scenario, a quicker alternative is opting for a higher <b><a href='#speed_up'>`speed_up`</a></b> factor."
   ]
  },
  {
   "cell_type": "code",
   "execution_count": 13,
   "metadata": {},
   "outputs": [
    {
     "name": "stdout",
     "output_type": "stream",
     "text": [
      "Spatial Embedding Location chosen as : medoid\n"
     ]
    }
   ],
   "source": [
    "center = 'medoid' # 'medoid', 'centroid'\n",
    "try:\n",
    "    assert center in {'medoid', 'centroid'}\n",
    "    print(\"Spatial Embedding Location chosen as : {}\".format(center))\n",
    "except AssertionError as e:\n",
    "    e.args += ('Please specify center as one of : {\"medoid\", \"centroid\"}', 42)\n",
    "    raise\n",
    "\n"
   ]
  },
  {
   "cell_type": "markdown",
   "metadata": {},
   "source": [
    "### Specify cropping configuration parameters"
   ]
  },
  {
   "cell_type": "markdown",
   "metadata": {},
   "source": [
    "Images and the corresponding masks are cropped into patches centred around an object instance, which are pre-saved prior to initiating the training. Note that the cropped images, masks and center-images would be saved at the path specified by `crops_dir` (The parameter `crops_dir` is set to ```./crops``` by default, which creates a directory at the same location as this notebook). Here, `data_subset` defines the directory which is processed. \n",
    "\n",
    "Note that we automatically calculate  the `crop_size` by using the `avg_object_size` and `std_object_size` through the relation:\n",
    "$\\text{crop_size_i} = \\text{avg_obj_size_i} + \\text{n_sigma} \\times \\text{std_obj_size_i}$ where $i \\in \\{x,y,z\\}$."
   ]
  },
  {
   "cell_type": "markdown",
   "metadata": {},
   "source": [
    "<a id=\"speed_up\"></a>"
   ]
  },
  {
   "cell_type": "code",
   "execution_count": 14,
   "metadata": {},
   "outputs": [],
   "source": [
    "n_sigma = 2"
   ]
  },
  {
   "cell_type": "code",
   "execution_count": 15,
   "metadata": {},
   "outputs": [],
   "source": [
    "def round_up_8(x):\n",
    "    return (x.astype(int)+7) & (-8)"
   ]
  },
  {
   "cell_type": "code",
   "execution_count": 16,
   "metadata": {},
   "outputs": [
    {
     "name": "stdout",
     "output_type": "stream",
     "text": [
      "Crop size in x and y will be set equal to 72. Crop size in z is set equal to 64\n"
     ]
    }
   ],
   "source": [
    "crops_dir = './crops'\n",
    "data_subsets = ['train', 'val'] \n",
    "crop_size_z = round_up_8(data_properties_dir['avg_object_size_z'] + n_sigma*data_properties_dir['stdev_object_size_z'])\n",
    "crop_size_y = np.maximum(round_up_8(data_properties_dir['avg_object_size_y'] + n_sigma*data_properties_dir['stdev_object_size_y']),\n",
    "round_up_8(data_properties_dir['avg_object_size_x'] + n_sigma*data_properties_dir['stdev_object_size_x']))\n",
    "crop_size_x = crop_size_y\n",
    "print(\"Crop size in x and y will be set equal to {}. Crop size in z is set equal to {}\".format(crop_size_x, crop_size_z))"
   ]
  },
  {
   "cell_type": "markdown",
   "metadata": {},
   "source": [
    "The `anisotropy_factor` is set equal to the ratio of voxel sizes in z to voxel sizes in x or y. <br>\n",
    "In case, there are out-of-memory issues or cropping takes too long, please try increasing the <b>`speed_up`</b> parameter by steps of 1. <br>\n",
    "We also generate crops by *downsampling* images and instances in case the data is acquired isotropically. This is a way to increase the receptive field without using more GPU memory."
   ]
  },
  {
   "cell_type": "code",
   "execution_count": 8,
   "metadata": {},
   "outputs": [],
   "source": [
    "anisotropy_factor = data_properties_dir['pixel_size_z_microns']/data_properties_dir['pixel_size_x_microns']\n",
    "speed_up = 2\n",
    "uniform_ds_factor = 2 if anisotropy_factor == 1 else 1"
   ]
  },
  {
   "cell_type": "markdown",
   "metadata": {},
   "source": [
    "### Generate Crops"
   ]
  },
  {
   "cell_type": "markdown",
   "metadata": {},
   "source": [
    "<div class=\"alert alert-block alert-warning\"> \n",
    "    The cropped images and masks are saved at the same-location as the example notebooks. <br>\n",
    "    Generating the crops would take a little while!\n",
    "</div>"
   ]
  },
  {
   "cell_type": "markdown",
   "metadata": {},
   "source": [
    "While cropping images, we normalize them by following any one of three strategies: \n",
    "\n",
    "(i) `min-max-percentile` (default) \n",
    "(ii) `mean-std` \n",
    "(iii) `absolute` "
   ]
  },
  {
   "cell_type": "code",
   "execution_count": 9,
   "metadata": {},
   "outputs": [
    {
     "name": "stdout",
     "output_type": "stream",
     "text": [
      "Normalization chosen as : min-max-percentile\n"
     ]
    }
   ],
   "source": [
    "norm = 'min-max-percentile'\n",
    "try:\n",
    "    assert norm in {'min-max-percentile', 'mean-std', 'absolute'}\n",
    "    print(\"Normalization chosen as : {}\".format(norm))\n",
    "except AssertionError as e:\n",
    "    e.args += ('Please specify norm as one of : {\"min-max-percentile\", \"mean-std\", \"absolute\"}', 42)\n",
    "    raise"
   ]
  },
  {
   "cell_type": "code",
   "execution_count": 10,
   "metadata": {},
   "outputs": [
    {
     "name": "stderr",
     "output_type": "stream",
     "text": [
      "\r",
      "  0%|                                                    | 0/46 [00:00<?, ?it/s]"
     ]
    },
    {
     "name": "stdout",
     "output_type": "stream",
     "text": [
      "Created new directory : ./crops/C.elegans-Cells-HK/train/images/\n",
      "Created new directory : ./crops/C.elegans-Cells-HK/train/masks/\n",
      "Created new directory : ./crops/C.elegans-Cells-HK/train/center-medoid/\n"
     ]
    },
    {
     "name": "stderr",
     "output_type": "stream",
     "text": [
      "100%|███████████████████████████████████████████| 46/46 [14:56<00:00, 19.49s/it]\n",
      "  0%|                                                     | 0/8 [00:00<?, ?it/s]"
     ]
    },
    {
     "name": "stdout",
     "output_type": "stream",
     "text": [
      "Cropping of images, instances and centre_images for data_subset = `train` done!\n",
      "Created new directory : ./crops/C.elegans-Cells-HK/val/images/\n",
      "Created new directory : ./crops/C.elegans-Cells-HK/val/masks/\n",
      "Created new directory : ./crops/C.elegans-Cells-HK/val/center-medoid/\n"
     ]
    },
    {
     "name": "stderr",
     "output_type": "stream",
     "text": [
      "100%|█████████████████████████████████████████████| 8/8 [02:05<00:00, 15.68s/it]"
     ]
    },
    {
     "name": "stdout",
     "output_type": "stream",
     "text": [
      "Cropping of images, instances and centre_images for data_subset = `val` done!\n"
     ]
    },
    {
     "name": "stderr",
     "output_type": "stream",
     "text": [
      "\n"
     ]
    }
   ],
   "source": [
    "for data_subset in data_subsets:\n",
    "    image_dir = os.path.join(data_dir, project_name, data_subset, 'images')\n",
    "    instance_dir = os.path.join(data_dir, project_name, data_subset, 'masks')\n",
    "    image_names = sorted(glob(os.path.join(image_dir, '*.tif'))) \n",
    "    instance_names = sorted(glob(os.path.join(instance_dir, '*.tif')))  \n",
    "    for i in tqdm(np.arange(len(image_names))):\n",
    "        process_3d(image_names[i], instance_names[i], os.path.join(crops_dir, project_name), data_subset, \n",
    "                crop_size_x = crop_size_x, crop_size_y = crop_size_y, crop_size_z = crop_size_z,\n",
    "                center = center, anisotropy_factor = anisotropy_factor, speed_up = speed_up, \n",
    "                norm=norm, data_type = data_properties_dir['data_type'], uniform_ds_factor=uniform_ds_factor)\n",
    "    print(\"Cropping of images, instances and centre_images for data_subset = `{}` done!\".format(data_subset))"
   ]
  },
  {
   "cell_type": "markdown",
   "metadata": {},
   "source": [
    "### Save `norm` in `normalization.json` file "
   ]
  },
  {
   "cell_type": "code",
   "execution_count": 17,
   "metadata": {},
   "outputs": [
    {
     "name": "stdout",
     "output_type": "stream",
     "text": [
      "Normalization properties of the `C.elegans-Cells-HK` dataset is saved to `normalization.json`\n"
     ]
    }
   ],
   "source": [
    "normalization = {}\n",
    "normalization['data_type']=data_properties_dir['data_type']\n",
    "normalization['norm']=norm\n",
    "with open('normalization.json', 'w') as outfile:\n",
    "    json.dump(normalization, outfile)\n",
    "    print(\"Normalization properties of the `{}` dataset is saved to `normalization.json`\".format(project_name))"
   ]
  },
  {
   "cell_type": "markdown",
   "metadata": {},
   "source": [
    "### Visualize cropped images, corresponding ground truth masks and object center images "
   ]
  },
  {
   "cell_type": "code",
   "execution_count": 18,
   "metadata": {},
   "outputs": [
    {
     "data": {
      "image/png": "[encoded data removed]",
      "text/plain": [
       "<Figure size 864x720 with 9 Axes>"
      ]
     },
     "metadata": {
      "needs_background": "light"
     },
     "output_type": "display_data"
    }
   ],
   "source": [
    "new_cmap = np.load('../../../cmaps/cmap_60.npy')\n",
    "new_cmap = ListedColormap(new_cmap) # new_cmap = 'magma' would also work! \n",
    "visualize_crop_3d(data_dir=crops_dir, project_name=project_name, train_val_dir='val', center=center, \n",
    "                  new_cmp=new_cmap, anisotropy=anisotropy_factor)"
   ]
  },
  {
   "cell_type": "code",
   "execution_count": null,
   "metadata": {},
   "outputs": [],
   "source": []
  }
 ],
 "metadata": {
  "kernelspec": {
   "display_name": "Python 3 (ipykernel)",
   "language": "python",
   "name": "python3"
  },
  "language_info": {
   "codemirror_mode": {
    "name": "ipython",
    "version": 3
   },
   "file_extension": ".py",
   "mimetype": "text/x-python",
   "name": "python",
   "nbconvert_exporter": "python",
   "pygments_lexer": "ipython3",
   "version": "3.7.0"
  },
  "toc": {
   "base_numbering": 1,
   "nav_menu": {},
   "number_sections": true,
   "sideBar": false,
   "skip_h1_title": false,
   "title_cell": "Table of Contents",
   "title_sidebar": "Contents",
   "toc_cell": false,
   "toc_position": {},
   "toc_section_display": true,
   "toc_window_display": false
  }
 },
 "nbformat": 4,
 "nbformat_minor": 4
}
